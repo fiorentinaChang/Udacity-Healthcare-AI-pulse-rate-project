{
 "cells": [
  {
   "cell_type": "markdown",
   "metadata": {},
   "source": [
    "## Part 2: Clinical Application\n",
    "\n",
    "### Contents\n",
    "Fill out this notebook as part 2 of your final project submission.\n",
    "\n",
    "**You will have to complete the Code (Load Metadata & Compute Resting Heart Rate) and Project Write-up sections.**  \n",
    "\n",
    "- [Code](#Code) is where you will implement some parts of the **pulse rate algorithm** you created and tested in Part 1 and already includes the starter code.\n",
    "  - [Imports](#Imports) - These are the imports needed for Part 2 of the final project. \n",
    "    - [glob](https://docs.python.org/3/library/glob.html)\n",
    "    - [os](https://docs.python.org/3/library/os.html)\n",
    "    - [numpy](https://numpy.org/)\n",
    "    - [pandas](https://pandas.pydata.org/)\n",
    "  - [Load the Dataset](#Load-the-dataset)  \n",
    "  - [Load Metadata](#Load-Metadata)\n",
    "  - [Compute Resting Heart Rate](#Compute-Resting-Heart-Rate)\n",
    "  - [Plot Resting Heart Rate vs. Age Group](#Plot-Resting-Heart-Rate-vs.-Age-Group)\n",
    "- [Project Write-up](#Project-Write-Up) to describe the clinical significance you observe from the **pulse rate algorithm** applied to this dataset, what ways/information that could improve your results, and if we validated a trend known in the science community. \n",
    "\n",
    "### Dataset (CAST)\n",
    "\n",
    "The data from this project comes from the [Cardiac Arrythmia Suppression Trial (CAST)](https://physionet.org/content/crisdb/1.0.0/), which was sponsored by the National Heart, Lung, and Blood Institute (NHLBI). CAST collected 24 hours of heart rate data from ECGs from people who have had a myocardial infarction (MI) within the past two years.[1] This data has been smoothed and resampled to more closely resemble PPG-derived pulse rate data from a wrist wearable.[2]\n",
    "\n",
    "1. **CAST RR Interval Sub-Study Database Citation** - Stein PK, Domitrovich PP, Kleiger RE, Schechtman KB, Rottman JN. Clinical and demographic determinants of heart rate variability in patients post myocardial infarction: insights from the Cardiac Arrhythmia Suppression Trial (CAST). Clin Cardiol 23(3):187-94; 2000 (Mar)\n",
    "2. **Physionet Citation** - Goldberger AL, Amaral LAN, Glass L, Hausdorff JM, Ivanov PCh, Mark RG, Mietus JE, Moody GB, Peng C-K, Stanley HE. PhysioBank, PhysioToolkit, and PhysioNet: Components of a New Research Resource for Complex Physiologic Signals (2003). Circulation. 101(23):e215-e220.\n",
    "\n",
    "-----"
   ]
  },
  {
   "cell_type": "markdown",
   "metadata": {},
   "source": [
    "### Code\n",
    "#### Imports\n",
    "\n",
    "When you implement the functions, you'll only need to you use the packages you've used in the classroom, like [Pandas](https://pandas.pydata.org/) and [Numpy](http://www.numpy.org/). These packages are imported for you here. We recommend you don't import other packages outside of the [Standard Library](https://docs.python.org/3/library/) , otherwise the grader might not be able to run your code."
   ]
  },
  {
   "cell_type": "markdown",
   "metadata": {},
   "source": [
    "#### Load the dataset\n",
    "\n",
    "The dataset is stored as [.npz](https://docs.scipy.org/doc/numpy/reference/generated/numpy.savez.html) files. Each file contains roughly 24 hours of heart rate data in the 'hr' array sampled at 1Hz. The subject ID is the name of the file. You will use these files to compute resting heart rate.\n",
    "\n",
    "Demographics metadata is stored in a file called 'metadata.csv'. This CSV has three columns, one for subject ID, age group, and sex. You will use this file to make the association between resting heart rate and age group for each gender.\n",
    "\n",
    "Find the dataset in `../datasets/crisdb/`"
   ]
  },
  {
   "cell_type": "markdown",
   "metadata": {},
   "source": [
    "#### Load Metadata\n",
    "Load the metadata file into a datastructure that allows for easy lookups from subject ID to age group and sex."
   ]
  },
  {
   "cell_type": "markdown",
   "metadata": {},
   "source": [
    "#### Compute Resting Heart Rate\n",
    "For each subject we want to compute the resting heart rate while keeping track of which age group this subject belongs to. An easy, robust way to compute the resting heart rate is to use the lowest 5th percentile value in the heart rate timeseries."
   ]
  },
  {
   "cell_type": "markdown",
   "metadata": {},
   "source": [
    "#### Plot Resting Heart Rate vs. Age Group\n",
    "We'll use [seaborn](https://seaborn.pydata.org/) to plot the relationship. Seaborn is a thin wrapper around matplotlib, which we've used extensively in this class, that enables higher-level statistical plots.\n",
    "\n",
    "We will use [lineplot](https://seaborn.pydata.org/generated/seaborn.lineplot.html#seaborn.lineplot) to plot the mean of the resting heart rates for each age group along with the 95% confidence interval around the mean. Learn more about making plots that show uncertainty [here](https://seaborn.pydata.org/tutorial/relational.html#aggregation-and-representing-uncertainty)."
   ]
  },
  {
   "cell_type": "code",
   "execution_count": 1,
   "metadata": {},
   "outputs": [
    {
     "name": "stdout",
     "output_type": "stream",
     "text": [
      "Requirement already up-to-date: seaborn in /opt/conda/lib/python3.6/site-packages (0.11.2)\n",
      "Requirement already satisfied, skipping upgrade: matplotlib>=2.2 in /opt/conda/lib/python3.6/site-packages (from seaborn) (3.3.4)\n",
      "Requirement already satisfied, skipping upgrade: pandas>=0.23 in /opt/conda/lib/python3.6/site-packages (from seaborn) (0.23.3)\n",
      "Requirement already satisfied, skipping upgrade: numpy>=1.15 in /opt/conda/lib/python3.6/site-packages (from seaborn) (1.19.5)\n",
      "Requirement already satisfied, skipping upgrade: scipy>=1.0 in /opt/conda/lib/python3.6/site-packages (from seaborn) (1.2.1)\n",
      "Requirement already satisfied, skipping upgrade: cycler>=0.10 in /opt/conda/lib/python3.6/site-packages/cycler-0.10.0-py3.6.egg (from matplotlib>=2.2->seaborn) (0.10.0)\n",
      "Requirement already satisfied, skipping upgrade: kiwisolver>=1.0.1 in /opt/conda/lib/python3.6/site-packages (from matplotlib>=2.2->seaborn) (1.3.1)\n",
      "Requirement already satisfied, skipping upgrade: pyparsing!=2.0.4,!=2.1.2,!=2.1.6,>=2.0.3 in /opt/conda/lib/python3.6/site-packages (from matplotlib>=2.2->seaborn) (2.2.0)\n",
      "Requirement already satisfied, skipping upgrade: python-dateutil>=2.1 in /opt/conda/lib/python3.6/site-packages (from matplotlib>=2.2->seaborn) (2.6.1)\n",
      "Requirement already satisfied, skipping upgrade: pillow>=6.2.0 in /opt/conda/lib/python3.6/site-packages (from matplotlib>=2.2->seaborn) (8.4.0)\n",
      "Requirement already satisfied, skipping upgrade: pytz>=2011k in /opt/conda/lib/python3.6/site-packages (from pandas>=0.23->seaborn) (2017.3)\n",
      "Requirement already satisfied, skipping upgrade: six in /opt/conda/lib/python3.6/site-packages (from cycler>=0.10->matplotlib>=2.2->seaborn) (1.11.0)\n",
      "Column names in metadata file: Index(['subject', 'age', 'sex'], dtype='object')\n"
     ]
    }
   ],
   "source": [
    " import glob\n",
    "import os\n",
    "import numpy as np\n",
    "import pandas as pd\n",
    "import seaborn as sns\n",
    "from matplotlib import pyplot as plt\n",
    "\n",
    "! pip install --upgrade seaborn\n",
    "\n",
    "\n",
    "# Load Metadata\n",
    "metadata_filename = '/data/crisdb/metadata.csv'\n",
    "metadata = pd.read_csv(metadata_filename)\n",
    "\n",
    "# Print column names to debug\n",
    "print(\"Column names in metadata file:\", metadata.columns)\n"
   ]
  },
  {
   "cell_type": "code",
   "execution_count": 2,
   "metadata": {},
   "outputs": [],
   "source": [
    "\n",
    "# Create metadata dictionary with the correct column names\n",
    "metadata_dict = metadata.set_index('subject').to_dict(orient='index')\n",
    "\n",
    "# Load the dataset\n",
    "hr_filenames = glob.glob('/data/crisdb/*.npz')\n",
    "\n",
    "def AgeAndRHR(metadata_dict, filename):\n",
    "    # Load the heart rate timeseries\n",
    "    hr_data = np.load(filename)['hr']\n",
    "    \n",
    "    # Compute the resting heart rate from the timeseries by finding the lowest 5th percentile value in hr_data\n",
    "    rhr = np.percentile(hr_data, 5)\n",
    "    \n",
    "    # Find the subject ID from the filename.\n",
    "    subject_id = os.path.basename(filename).replace('.npz', '')\n",
    "    \n",
    "    # Find the age group for this subject in metadata.\n",
    "    age_group = metadata_dict[subject_id]['age']\n",
    "    \n",
    "    # Find the sex for this subject in metadata.\n",
    "    sex = metadata_dict[subject_id]['sex']\n",
    "    \n",
    "    return age_group, sex, rhr\n",
    "\n",
    "# Create a DataFrame with the computed values\n",
    "df = pd.DataFrame(data=[AgeAndRHR(metadata_dict, filename) for filename in hr_filenames],\n",
    "                  columns=['age_group', 'sex', 'rhr'])\n",
    "\n"
   ]
  },
  {
   "cell_type": "code",
   "execution_count": 10,
   "metadata": {},
   "outputs": [
    {
     "name": "stdout",
     "output_type": "stream",
     "text": [
      "   age_group     sex   mean_rhr    std_rhr  count         ci\n",
      "0      35-39  Female  64.936157  10.743882    4.0  10.529004\n",
      "1      35-39    Male  65.092105  11.897925   24.0   4.760162\n",
      "2      40-44  Female  72.880497  13.096411    8.0   9.075350\n",
      "3      40-44    Male  63.046920  12.343532   54.0   3.292294\n",
      "4      45-49  Female  71.109613  19.509168   15.0   9.873001\n",
      "5      45-49    Male  65.359438  14.383833  109.0   2.700334\n",
      "6      50-54  Female  70.464430  14.508093   18.0   6.702397\n",
      "7      50-54    Male  64.594842  14.592072  146.0   2.366991\n",
      "8      55-59  Female  70.488809  12.522566   46.0   3.618849\n",
      "9      55-59    Male  61.622980  10.915386  215.0   1.459069\n",
      "10     60-64  Female  67.733858  12.379561   67.0   2.964312\n",
      "11     60-64    Male  62.780684  13.288616  246.0   1.660612\n",
      "12     65-69  Female  62.926454  16.042538   61.0   4.025912\n",
      "13     65-69    Male  63.480979  12.179729  230.0   1.574091\n",
      "14     70-74  Female  59.386176  14.732023   39.0   4.623663\n",
      "15     70-74    Male  61.871341  14.167787  157.0   2.216197\n",
      "16     75-79  Female  61.024178   6.889330   19.0   3.097821\n",
      "17     75-79    Male  61.661049  13.587539   79.0   2.996287\n"
     ]
    },
    {
     "name": "stderr",
     "output_type": "stream",
     "text": [
      "/opt/conda/lib/python3.6/site-packages/pandas/core/groupby/groupby.py:4317: FutureWarning: arrays to stack must be passed as a \"sequence\" type such as list or tuple. Support for non-sequence iterables such as generators is deprecated as of NumPy 1.16 and will raise an error in the future.\n",
      "  stacked_values = np.vstack(map(np.asarray, values))\n"
     ]
    }
   ],
   "source": [
    "# Compute the mean, standard deviation, and count\n",
    "summary_df = df.groupby(['age_group', 'sex']).apply(\n",
    "    lambda x: pd.Series({\n",
    "        'mean_rhr': x['rhr'].mean(),\n",
    "        'std_rhr': x['rhr'].std(),\n",
    "        'count': x['rhr'].count()\n",
    "    })\n",
    ").reset_index()\n",
    "\n",
    "# Calculate the 95% confidence interval\n",
    "summary_df['ci'] = 1.96 * (summary_df['std_rhr'] / np.sqrt(summary_df['count']))\n",
    "\n",
    "print(summary_df)\n"
   ]
  },
  {
   "cell_type": "code",
   "execution_count": 9,
   "metadata": {},
   "outputs": [
    {
     "data": {
      "image/png": "[encoded data removed]",
      "text/plain": [
       "<Figure size 864x576 with 1 Axes>"
      ]
     },
     "metadata": {
      "needs_background": "light"
     },
     "output_type": "display_data"
    }
   ],
   "source": [
    "# Sort labels for consistent x-axis ordering\n",
    "labels = sorted(df['age_group'].unique())\n",
    "summary_df['xaxis'] = summary_df['age_group'].map(lambda x: labels.index(x)).astype('float')\n",
    "\n",
    "# Plotting\n",
    "plt.figure(figsize=(12, 8))\n",
    "sns.lineplot(x='xaxis', y='mean_rhr', hue='sex', data=summary_df, ci=None)\n",
    "\n",
    "\n",
    "# Plot error bars for confidence intervals\n",
    "for sex in summary_df['sex'].unique():\n",
    "    subset = summary_df[summary_df['sex'] == sex]\n",
    "    plt.errorbar(subset['xaxis'], subset['mean_rhr'], yerr=subset['ci'], fmt='o', label=sex)\n",
    "\n",
    "plt.xticks(np.arange(len(labels)), labels)\n",
    "plt.xlabel('Age Group')\n",
    "plt.ylabel('Resting Heart Rate (bpm)')\n",
    "plt.title('Resting Heart Rate vs. Age Group')\n",
    "plt.legend(title='Sex')\n",
    "plt.show()"
   ]
  },
  {
   "cell_type": "markdown",
   "metadata": {},
   "source": [
    "### Clinical Conclusion\n",
    "Answer the following prompts to draw a conclusion about the data.\n",
    "> 1. For women, we see the resting heart rate (RHR) peaks around the age group 40-44 with a mean RHR of 72.88 bpm and then generally decreases as age increases, reaching the lowest mean RHR of 59.39 bpm in the 70-74 age group.\n",
    "\n",
    "> 2. For men, we see the highest mean RHR for men is 65.09 bpm in the 35-39 age group, and it gradually decreases to 61.66 bpm by the 75-79 age group.\n",
    "\n",
    "> 3 & 4. What are some possible reasons for what we see in our data? In comparison to men, Across most age groups, women have a higher mean RHR compared to men. This is consistent with existing literature which often suggests that women tend to have slightly higher resting heart rates than men, possibly due to differences in heart size, hormonal influences, and metabolic demands.\n",
    "\n",
    "> 5. What else can we do or go and find to figure out what is really happening? How would that improve the results? Increase Sample Size: Gathering more data, especially in underrepresented groups, would provide more reliable estimates and narrower confidence intervals. Control for Confounding Factors: Collect data on other variables such as physical activity levels, medication use, and health conditions that could influence RHR. This would help in understanding whether the observed differences are due to sex and age or other factors. Longitudinal Studies: Following individuals over time to observe changes in RHR with aging can provide more insight into the natural progression of RHR changes rather than relying on cross-sectional data. Comparative Studies: Conducting studies that compare different populations or subgroups could help determine if the trends observed are generalizable or specific to certain groups.\n",
    "\n",
    "> 6. Did we validate the trend that average resting heart rate increases up until middle age and then decreases into old age? How? Did the RHR Increase Then Decrease with Age?: The data suggests that RHR does not strictly follow the hypothesized pattern of increasing until middle age and then decreasing. For both sexes, the highest mean RHR occurs around middle age (40-44 for women, 35-39 for men), but the decrease thereafter is not consistent across all age groups. The data provides partial validation for the trend with the highest mean RHR in middle age groups, but the subsequent decline is modest, especially in men."
   ]
  }
 ],
 "metadata": {
  "kernelspec": {
   "display_name": "Python 3",
   "language": "python",
   "name": "python3"
  },
  "language_info": {
   "codemirror_mode": {
    "name": "ipython",
    "version": 3
   },
   "file_extension": ".py",
   "mimetype": "text/x-python",
   "name": "python",
   "nbconvert_exporter": "python",
   "pygments_lexer": "ipython3",
   "version": "3.6.3"
  }
 },
 "nbformat": 4,
 "nbformat_minor": 2
}
